{
 "cells": [
  {
   "cell_type": "code",
   "execution_count": 2,
   "metadata": {},
   "outputs": [],
   "source": [
    "from langchain.memory import ConversationSummaryBufferMemory\n",
    "from langchain.chat_models import ChatOpenAI\n",
    "from langchain.schema.runnable import RunnablePassthrough\n",
    "from langchain.prompts import ChatPromptTemplate, MessagesPlaceholder\n",
    "\n",
    "llm = ChatOpenAI(temperature=0.1)\n",
    "\n",
    "memory = ConversationSummaryBufferMemory(\n",
    "    llm=llm,\n",
    "    max_token_limit=120,\n",
    "    return_messages=True,\n",
    ")\n",
    "\n",
    "prompt = ChatPromptTemplate.from_messages(\n",
    "    [\n",
    "        (\"system\", \"Discribe the moive as 3 emojis. e.g) train to Busan = 🚂🧟‍♂️🇰🇷\"),\n",
    "        MessagesPlaceholder(variable_name=\"history\"),\n",
    "        (\"human\", \"{question}\"),\n",
    "    ]\n",
    ")\n",
    "\n",
    "\n",
    "def load_memory(_):\n",
    "    return memory.load_memory_variables({})[\"history\"]\n",
    "\n",
    "\n",
    "chain = RunnablePassthrough.assign(history=load_memory) | prompt | llm\n",
    "\n",
    "\n",
    "def invoke_chain(question):\n",
    "    result = chain.invoke({\"question\": question})\n",
    "    memory.save_context(\n",
    "        {\"input\": question},\n",
    "        {\"output\": result.content},\n",
    "    )\n",
    "    print(result)"
   ]
  },
  {
   "cell_type": "code",
   "execution_count": 3,
   "metadata": {},
   "outputs": [
    {
     "name": "stdout",
     "output_type": "stream",
     "text": [
      "content='💀🕵️\\u200d♂️🔍'\n"
     ]
    }
   ],
   "source": [
    "invoke_chain(\"exhumation\")"
   ]
  },
  {
   "cell_type": "code",
   "execution_count": 4,
   "metadata": {},
   "outputs": [
    {
     "name": "stdout",
     "output_type": "stream",
     "text": [
      "content='✈️🔥😎'\n"
     ]
    }
   ],
   "source": [
    "invoke_chain(\"Top Gun\")"
   ]
  },
  {
   "cell_type": "code",
   "execution_count": 5,
   "metadata": {},
   "outputs": [
    {
     "name": "stdout",
     "output_type": "stream",
     "text": [
      "content='🦈🏖️🚤'\n"
     ]
    }
   ],
   "source": [
    "invoke_chain(\"Jaws\")"
   ]
  },
  {
   "cell_type": "code",
   "execution_count": 3,
   "metadata": {},
   "outputs": [
    {
     "name": "stdout",
     "output_type": "stream",
     "text": [
      "DuckDuck search start\n",
      "판다 한 마리의 임대 비용은 연간 10억 이상이며, 여기에 중국인 사육사 임대 비용 [14]과 죽순 및 대나무 등 식비용 [15], 환경 관리, 건강 돌봄 등 기타 제비용을 합하면 1년당 수십억 원이 들어가게 된다. 판다월드샵에는 무려 100만원짜리 판다 피규어가 있다. [16] About this app. arrow_forward. ※ Why you should choose PandaVPN! You can use it for free for one day just by signing up! After logging in, just press Panda to connect to the fastest location, making it very convenient to use! Real-time consultation is available in Korean! Enjoy worry-free streaming at fast speeds! 에버랜드 최초로 자연분만으로 태어난 푸바오 와 최초로 쌍둥이로 태어난 루이바오 와 후이바오 의 아빠이자 바오 가족 의 가장이다. 또한 2024년 현재까지 한국에 온 모든 판다들 중 유일한 수컷 판다이다. [11] [12] 이름 러바오는 '기쁨을 주는 보물'이라는 뜻으로 ... 판다. 판다의 생태와 서식지. 판다는 중국의 중남부 산악지대에 서식하는 대형 포유류로, 주로 대나무를 먹고 삽니다. 판다는 엄청난 양의 대나무를 섭취하는데, 하루에 12kg에서 38kg까지 먹는다고 해요. 이 때문에 서식지 내 대나무 숲은 판다 생존에 필수적이죠. 판다 귀환 러시가 잇따르면서 중국의 판다 외교도 종언을 고하는 것 아니냐는 분석들이 나왔다. 판다 화메이가 2000년 8월 미국 캘리포니아주 샌디에이고 동물원에서 대나무를 향해 팔을 뻗고 있다. ap연합뉴스 ...\n"
     ]
    }
   ],
   "source": [
    "\n",
    "from langchain.utilities.duckduckgo_search import DuckDuckGoSearchAPIWrapper\n",
    "ddg = DuckDuckGoSearchAPIWrapper()\n",
    "print(\"DuckDuck search start\")\n",
    "results = ddg.run(\"판다\")\n",
    "print(results)\n",
    "file_path = f\"MyResearch.txt\"\n",
    "with open(file_path, 'w') as f:\n",
    "    f.write(results)"
   ]
  }
 ],
 "metadata": {
  "kernelspec": {
   "display_name": "env",
   "language": "python",
   "name": "python3"
  },
  "language_info": {
   "codemirror_mode": {
    "name": "ipython",
    "version": 3
   },
   "file_extension": ".py",
   "mimetype": "text/x-python",
   "name": "python",
   "nbconvert_exporter": "python",
   "pygments_lexer": "ipython3",
   "version": "3.11.6"
  }
 },
 "nbformat": 4,
 "nbformat_minor": 2
}

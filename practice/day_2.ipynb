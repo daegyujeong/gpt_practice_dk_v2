{
 "cells": [
  {
   "cell_type": "code",
   "execution_count": 2,
   "metadata": {},
   "outputs": [
    {
     "name": "stdout",
     "output_type": "stream",
     "text": [
      "**Oldboy** is a South Korean neo-noir action thriller film released in 2003, directed by Park Chan-wook. It is based on the Japanese manga of the same name by Garon Tsuchiya and Nobuaki Minegishi. \n",
      "\n",
      "**Key Details:**\n",
      "- **Directors:** Park Chan-wook\n",
      "- **Stars:** Choi Min-sik, Yoo Ji-tae, Kang Hye-jung\n",
      "- **Genres:** Action, Drama, Mystery, Thriller\n",
      "- **Budget:** Approximately $3 million\n",
      "- **Worldwide Gross:** Approximately $15 million\n",
      "\n",
      "**Summary:** The film follows the story of Oh Dae-su, a man who is inexplicably imprisoned in a cell for 15 years without knowing his captor's motives. Upon his release, he embarks on a quest for vengeance and to uncover the truth behind his imprisonment. As he delves deeper into the mystery, he discovers shocking revelations that lead to a dramatic and unsettling conclusion.\n",
      "\n",
      "**Review:** \"Oldboy\" is widely regarded as a masterpiece of modern cinema, known for its intense storytelling, complex themes of revenge and redemption, and striking visual style. Choi Min-sik's performance as Oh Dae-su is particularly praised for its depth and intensity. The film features a famous corridor fight scene that has become iconic in film history. Its twist ending is both shocking and thought-provoking, leaving a lasting impact on viewers. \"Oldboy\" has garnered critical acclaim and won the Grand Prix at the 2004 Cannes Film Festival, solidifying its status as a landmark in South Korean cinema."
     ]
    },
    {
     "data": {
      "text/plain": [
       "AIMessageChunk(content='**Oldboy** is a South Korean neo-noir action thriller film released in 2003, directed by Park Chan-wook. It is based on the Japanese manga of the same name by Garon Tsuchiya and Nobuaki Minegishi. \\n\\n**Key Details:**\\n- **Directors:** Park Chan-wook\\n- **Stars:** Choi Min-sik, Yoo Ji-tae, Kang Hye-jung\\n- **Genres:** Action, Drama, Mystery, Thriller\\n- **Budget:** Approximately $3 million\\n- **Worldwide Gross:** Approximately $15 million\\n\\n**Summary:** The film follows the story of Oh Dae-su, a man who is inexplicably imprisoned in a cell for 15 years without knowing his captor\\'s motives. Upon his release, he embarks on a quest for vengeance and to uncover the truth behind his imprisonment. As he delves deeper into the mystery, he discovers shocking revelations that lead to a dramatic and unsettling conclusion.\\n\\n**Review:** \"Oldboy\" is widely regarded as a masterpiece of modern cinema, known for its intense storytelling, complex themes of revenge and redemption, and striking visual style. Choi Min-sik\\'s performance as Oh Dae-su is particularly praised for its depth and intensity. The film features a famous corridor fight scene that has become iconic in film history. Its twist ending is both shocking and thought-provoking, leaving a lasting impact on viewers. \"Oldboy\" has garnered critical acclaim and won the Grand Prix at the 2004 Cannes Film Festival, solidifying its status as a landmark in South Korean cinema.')"
      ]
     },
     "execution_count": 2,
     "metadata": {},
     "output_type": "execute_result"
    }
   ],
   "source": [
    "from langchain.chat_models import ChatOpenAI\n",
    "from langchain.prompts import example_selector\n",
    "from langchain.prompts.few_shot import FewShotPromptTemplate\n",
    "from langchain.callbacks import StreamingStdOutCallbackHandler\n",
    "from langchain.prompts.prompt import PromptTemplate\n",
    "from langchain.prompts.example_selector.base import BaseExampleSelector\n",
    "\n",
    "\n",
    "chat = ChatOpenAI(\n",
    "    model=\"gpt-4o-mini\",\n",
    "    temperature=0.1,\n",
    "    streaming=True,\n",
    "    callbacks=[\n",
    "        StreamingStdOutCallbackHandler(),\n",
    "    ],\n",
    ")\n",
    "\n",
    "\n",
    "examples = [\n",
    "    {\n",
    "        \"question\": \"Do you know the movie named Train to Busan?\",\n",
    "        \"answer\": \"\"\"\n",
    "        Director: Yeon Sang-ho\n",
    "        Stars: Gong Yoo, Jung Yu-mi, Ma Dong-seok\n",
    "        Budget: $16M (estimated)\n",
    "        Worldwide Gross: $233.734M\n",
    "        Genres: Zombie Thriller Action\n",
    "        Summary: A man (Gong Yoo), his estranged daughter and other passengers become trapped on a speeding train during a zombie outbreak in South Korea.\n",
    "        Review: The walking dead meets Snowpiercer but in Korea, it delivers too. It’s on par if not better than most of it’s Hollywood zombie apocalypse counterparts. It’s a great action flick, it’s paced well so it has your attention drawn throughout and the end is somewhat emotional. Not everyone can make it sorta thing, but it is a hopeful conclusion. An emotional zombie flick.\n",
    "        \"\"\",\n",
    "    },\n",
    "    {\n",
    "        \"question\": \"Do you know the movie named Inception?\",\n",
    "        \"answer\": \"\"\"\n",
    "        Director: Christopher Nolan\n",
    "        Stars: Leonardo DiCaprio, Joseph Gordon-Levitt, Ellen Page\n",
    "        Budget: $160M (estimated)\n",
    "        Worldwide Gross: $829.895M\n",
    "        Genres: Action, Sci-Fi, Thriller\n",
    "        Summary: A thief who steals corporate secrets through the use of dream-sharing technology is given the inverse task of planting an idea into the mind of a CEO.\n",
    "        Review: Inception is a masterpiece of narrative complexity, weaving together multiple layers of reality with a precision that's both intellectually stimulating and emotionally gripping. Nolan's direction is meticulous, and the performances, especially DiCaprio's, are top-notch. The visual effects are groundbreaking, and the score is unforgettable. A film that challenges viewers to question the nature of reality.\n",
    "        \"\"\",\n",
    "    },\n",
    "    {\n",
    "    \"question\": \"Do you know the movie named Avengers: Endgame?\",\n",
    "    \"answer\": \"\"\"\n",
    "    Directors: Anthony Russo, Joe Russo\n",
    "    Stars: Robert Downey Jr., Chris Evans, Mark Ruffalo\n",
    "    Budget: $356M (estimated)\n",
    "    Worldwide Gross: $2.798B\n",
    "    Genres: Action, Adventure, Drama\n",
    "    Summary: After the devastating events of Avengers: Infinity War (2018), the universe is in ruins. With the help of remaining allies, the Avengers assemble once more in order to reverse Thanos' actions and restore balance to the universe.\n",
    "    Review: Avengers: Endgame is not just a movie; it's an epic culmination of over a decade of Marvel Cinematic Universe films. It's a story of sacrifice, heroism, and redemption that pays off the emotional and narrative investment of 22 films. The directors, the Russo Brothers, have masterfully woven together multiple storylines, delivering an emotionally charged and action-packed finale. The performances are powerful, the visual effects are spectacular, and the narrative is both satisfying and heart-wrenching. Endgame serves as a fitting farewell to some of Marvel's most beloved characters, leaving audiences both cheering and in tears.\n",
    "    \"\"\",\n",
    "    }\n",
    "\n",
    "\n",
    "\n",
    "]\n",
    "\n",
    "class RandomExampleSelector(BaseExampleSelector):\n",
    "    def __init__(self, examples):\n",
    "        self.examples = examples\n",
    "\n",
    "    def add_example(self, example):\n",
    "        self.examples.append(example)\n",
    "\n",
    "    def select_examples(self, input_variables):\n",
    "        from random import choice\n",
    "\n",
    "        return [choice(self.examples)]\n",
    "\n",
    "\n",
    "example_prompt = PromptTemplate.from_template(\"Human: {question}\\nAI:{answer}\")\n",
    "example_selector = RandomExampleSelector(\n",
    "    examples=examples,\n",
    ")\n",
    "prompt = FewShotPromptTemplate(\n",
    "    example_prompt=example_prompt,\n",
    "    example_selector=example_selector,\n",
    "    suffix=\"Human: What do you know about the movie named {movie}?\",\n",
    "    input_variables=[\"movie\"],\n",
    ")\n",
    "chain = prompt | chat\n",
    "\n",
    "chain.invoke({\"movie\": \"Oldboy\"})"
   ]
  }
 ],
 "metadata": {
  "kernelspec": {
   "display_name": "env",
   "language": "python",
   "name": "python3"
  },
  "language_info": {
   "codemirror_mode": {
    "name": "ipython",
    "version": 3
   },
   "file_extension": ".py",
   "mimetype": "text/x-python",
   "name": "python",
   "nbconvert_exporter": "python",
   "pygments_lexer": "ipython3",
   "version": "3.11.6"
  }
 },
 "nbformat": 4,
 "nbformat_minor": 2
}

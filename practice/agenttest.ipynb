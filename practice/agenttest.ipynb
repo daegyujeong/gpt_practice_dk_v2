{
 "cells": [
  {
   "cell_type": "code",
   "execution_count": 1,
   "metadata": {},
   "outputs": [
    {
     "name": "stdout",
     "output_type": "stream",
     "text": [
      "\n",
      "\n",
      "\u001b[1m> Entering new AgentExecutor chain...\u001b[0m\n"
     ]
    },
    {
     "name": "stderr",
     "output_type": "stream",
     "text": [
      "Failed to post https://api.smith.langchain.com/runs in LangSmith API. HTTPError('403 Client Error: Forbidden for url: https://api.smith.langchain.com/runs', '{\"detail\":\"Forbidden\"}')\n"
     ]
    },
    {
     "name": "stdout",
     "output_type": "stream",
     "text": [
      "\u001b[32;1m\u001b[1;3m\"손\"은 한국어로 \"hand\"를 의미합니다. 손에 대해 어떤 정보를 원하시나요? 예를 들어, 손의 구조, 손의 기능, 손의 건강 관리 등에 대해 설명할 수 있습니다.\u001b[0m\n",
      "\n",
      "\u001b[1m> Finished chain.\u001b[0m\n"
     ]
    },
    {
     "data": {
      "text/plain": [
       "{'input': '손',\n",
       " 'output': '\"손\"은 한국어로 \"hand\"를 의미합니다. 손에 대해 어떤 정보를 원하시나요? 예를 들어, 손의 구조, 손의 기능, 손의 건강 관리 등에 대해 설명할 수 있습니다.'}"
      ]
     },
     "execution_count": 1,
     "metadata": {},
     "output_type": "execute_result"
    },
    {
     "name": "stderr",
     "output_type": "stream",
     "text": [
      "Failed to patch https://api.smith.langchain.com/runs/10f142c1-c42b-42fa-8095-29ccc1248000 in LangSmith API. HTTPError('403 Client Error: Forbidden for url: https://api.smith.langchain.com/runs/10f142c1-c42b-42fa-8095-29ccc1248000', '{\"detail\":\"Forbidden\"}')\n"
     ]
    }
   ],
   "source": [
    "import requests\n",
    "from bs4 import BeautifulSoup\n",
    "from typing import Type\n",
    "from langchain.chat_models import ChatOpenAI\n",
    "from langchain.tools import BaseTool\n",
    "from pydantic import BaseModel, Field\n",
    "from langchain.agents import initialize_agent, AgentType\n",
    "from langchain.utilities import DuckDuckGoSearchAPIWrapper, WikipediaAPIWrapper\n",
    "\n",
    "llm = ChatOpenAI(temperature=0.1, model_name=\"gpt-4o-mini\")\n",
    "\n",
    "class ResearchToolArgsSchema(BaseModel):\n",
    "    query: str = Field(\n",
    "        description=\"The query you will search for. Example query: Research about the XZ backdoor\"\n",
    "    )\n",
    "\n",
    "\n",
    "class DuckDuckSearchTool(BaseTool):\n",
    "    name = \"DuckDuckSearchTool\"\n",
    "    description = \"\"\"\n",
    "    Use this tool to search for the provided query and provide one url from the searching.\n",
    "    \"\"\"\n",
    "    args_schema: Type[\n",
    "        ResearchToolArgsSchema\n",
    "    ] = ResearchToolArgsSchema\n",
    "\n",
    "    def _run(self, query):\n",
    "        ddg = DuckDuckGoSearchAPIWrapper()\n",
    "        return ddg.run(query)\n",
    "\n",
    "class WikiSearchTool(BaseTool):\n",
    "    name = \"WikiSearchTool\"\n",
    "    description = \"\"\"\n",
    "    Use this tool to search for the provided query and provide one url from the searching.\n",
    "    \n",
    "    \"\"\"\n",
    "    args_schema: Type[\n",
    "        ResearchToolArgsSchema\n",
    "    ] = ResearchToolArgsSchema\n",
    "\n",
    "    def _run(self, query):\n",
    "        wiki = WikipediaAPIWrapper()\n",
    "        return wiki.run(query)\n",
    "\n",
    "class URLSearchToolArgsSchema(BaseModel):\n",
    "    url: str = Field(\n",
    "        description=\"The url you will search. Example url: https://www.techrepublic.com/article/xz-backdoor-linux/\",\n",
    "    )\n",
    "\n",
    "class LoadWebsiteTool(BaseTool):\n",
    "\n",
    "    name = \"LoadWebsiteTool\"\n",
    "    description = \"\"\"\n",
    "    Use this tool to extract one website from either Wikipedia or DuckDuckGo.\n",
    "    \"\"\"\n",
    "    args_schema: Type[URLSearchToolArgsSchema] = URLSearchToolArgsSchema\n",
    "\n",
    "    def _run(self, url):\n",
    "        print(url)\n",
    "        try:\n",
    "            response = requests.get(url)\n",
    "            soup = BeautifulSoup(response.content, \"html.parser\")\n",
    "            response.raise_for_status()  # Raises an error for bad responses\n",
    "            title_text = soup.find('title').text if soup.find('title') else 'Title tag not found'\n",
    "            return title_text\n",
    "        except requests.RequestException as e:\n",
    "            return f\"Failed to load URL: {str(e)}\"\n",
    "        except ValueError:\n",
    "            return \"URL did not return a JSON response.\"\n",
    "        \n",
    "class SaveToTextFileToolArgsSchema(BaseModel):\n",
    "    text: str = Field(\n",
    "        description=\"the extracted content from the website will be saved to .txt file.\",\n",
    "    ) \n",
    "class SaveToTextFileTool(BaseTool):\n",
    "    name = \"SaveToTextFileTool\"\n",
    "    description = \"\"\"\n",
    "    Use this tool to save the text file.\n",
    "    \"\"\"\n",
    "    args_schema: Type[SaveToTextFileToolArgsSchema] = SaveToTextFileToolArgsSchema\n",
    "\n",
    "    def _run(self, text):\n",
    "        file_path = f\"MyResearch.txt\"\n",
    "        with open(file_path, 'w') as f:\n",
    "            f.write(text)\n",
    "        \n",
    "\n",
    "\n",
    "agent = initialize_agent(\n",
    "    llm=llm,\n",
    "    verbose=True,\n",
    "    agent=AgentType.OPENAI_FUNCTIONS,\n",
    "    handle_parsing_errors=True,\n",
    "    tools=[\n",
    "            DuckDuckSearchTool(),\n",
    "            WikiSearchTool(),\n",
    "            LoadWebsiteTool(),\n",
    "            SaveToTextFileTool(),\n",
    "    ],\n",
    ")\n",
    "\n",
    "prompt = \"손\"\n",
    "agent.invoke(prompt)\n",
    "\n"
   ]
  }
 ],
 "metadata": {
  "kernelspec": {
   "display_name": "env",
   "language": "python",
   "name": "python3"
  },
  "language_info": {
   "codemirror_mode": {
    "name": "ipython",
    "version": 3
   },
   "file_extension": ".py",
   "mimetype": "text/x-python",
   "name": "python",
   "nbconvert_exporter": "python",
   "pygments_lexer": "ipython3",
   "version": "3.11.6"
  }
 },
 "nbformat": 4,
 "nbformat_minor": 2
}

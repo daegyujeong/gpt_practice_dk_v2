{
    "cells": [
        {
            "cell_type": "code",
            "execution_count": 155,
            "metadata": {},
            "outputs": [],
            "source": [
                "from langchain.chat_models import ChatOpenAI\n",
                "from langchain.prompts import ChatPromptTemplate\n",
                "from langchain.callbacks import StreamingStdOutCallbackHandler\n",
                "\n",
                "chat = ChatOpenAI(\n",
                "    # model=\"gpt-4o\",\n",
                "    temperature=0.5,\n",
                "    streaming=True,\n",
                "    callbacks=[\n",
                "        StreamingStdOutCallbackHandler(),\n",
                "    ],\n",
                ")\n",
                "\n",
                "poetry_prompt = ChatPromptTemplate.from_messages(\n",
                "    [\n",
                "        (\n",
                "            \"system\",\n",
                "            \"You are a nerd and master of programing. you like to write poem about programming language. Your poem is always nominated on Reddit's programming humor. Show your rizz to your crush. The poem must contain the metaphor of your crush and start the poem with you are like a {topic} \",\n",
                "        ),\n",
                "        (\"human\", \"write poem about {topic} .\"),\n",
                "    ]\n",
                ")\n",
                "poetry_chain = poetry_prompt | chat"
            ]
        },
        {
            "cell_type": "code",
            "execution_count": 156,
            "metadata": {},
            "outputs": [
                {
                    "name": "stdout",
                    "output_type": "stream",
                    "text": [
                        "You are like a Cobol, my dear\n",
                        "Ancient and classic, yet so clear\n",
                        "Your beauty lies in your syntax old\n",
                        "A language of legends, so I'm told\n",
                        "\n",
                        "Just like Cobol, you stand the test of time\n",
                        "In a world of new languages, you still shine\n",
                        "Your elegance and grace, unmatched by all\n",
                        "You are my crush, my programming thrall\n",
                        "\n",
                        "Though others may come and go\n",
                        "In my heart, you will always glow\n",
                        "Like Cobol, you are my first love\n",
                        "A language so pure, sent from above\n",
                        "\n",
                        "So here's to you, my dear crush\n",
                        "In the world of programming, you're a lush\n",
                        "Like Cobol, you are timeless and true\n",
                        "Forever in my heart, forever with youPoetry Interpretation:\n",
                        "This poem compares the speaker's feelings for someone to the programming language Cobol. The speaker admires the person for being classic, elegant, and timeless, just like Cobol in the world of programming. The poem expresses the speaker's deep affection and admiration for this person, likening them to a cherished first love that will always hold a special place in their heart.\n",
                        "\n",
                        "한국어 번역:\n",
                        "당신은 내게 코볼 같아요\n",
                        "고대적이고 고전적이지만 매우 명확해요\n",
                        "당신의 아름다움은 당신의 오래된 문법에 있어요\n",
                        "전설의 언어, 그렇게 말해요\n",
                        "\n",
                        "마치 코볼처럼, 당신은 시간의 시험을 견디고 있어요\n",
                        "새로운 언어들의 세상에서도 여전히 빛을 발해요\n",
                        "당신의 우아함과 우아함, 모두가 미치지 못해요\n",
                        "당신은 내 마음의 애정, 내 프로그래밍의 매료\n",
                        "\n",
                        "다른 사람들이 오고 가더라도\n",
                        "내 마음속에서 당신은 항상 빛나요\n",
                        "코볼처럼, 당신은 내 첫사랑이에요\n",
                        "하늘에서 온 순수한 언어\n",
                        "\n",
                        "그래서 여기 당신에게, 내 사랑\n",
                        "프로그래밍 세계에서, 당신은 화려해요\n",
                        "코볼처럼, 당신은 시대를 초월하고 진실해요\n",
                        "내 마음속에 영원히, 당신과 영원히 함께해요"
                    ]
                },
                {
                    "data": {
                        "text/plain": [
                            "AIMessageChunk(content=\"Poetry Interpretation:\\nThis poem compares the speaker's feelings for someone to the programming language Cobol. The speaker admires the person for being classic, elegant, and timeless, just like Cobol in the world of programming. The poem expresses the speaker's deep affection and admiration for this person, likening them to a cherished first love that will always hold a special place in their heart.\\n\\n한국어 번역:\\n당신은 내게 코볼 같아요\\n고대적이고 고전적이지만 매우 명확해요\\n당신의 아름다움은 당신의 오래된 문법에 있어요\\n전설의 언어, 그렇게 말해요\\n\\n마치 코볼처럼, 당신은 시간의 시험을 견디고 있어요\\n새로운 언어들의 세상에서도 여전히 빛을 발해요\\n당신의 우아함과 우아함, 모두가 미치지 못해요\\n당신은 내 마음의 애정, 내 프로그래밍의 매료\\n\\n다른 사람들이 오고 가더라도\\n내 마음속에서 당신은 항상 빛나요\\n코볼처럼, 당신은 내 첫사랑이에요\\n하늘에서 온 순수한 언어\\n\\n그래서 여기 당신에게, 내 사랑\\n프로그래밍 세계에서, 당신은 화려해요\\n코볼처럼, 당신은 시대를 초월하고 진실해요\\n내 마음속에 영원히, 당신과 영원히 함께해요\")"
                        ]
                    },
                    "execution_count": 156,
                    "metadata": {},
                    "output_type": "execute_result"
                }
            ],
            "source": [
                "critic_prompt = ChatPromptTemplate.from_messages(\n",
                "    [\n",
                "        (\n",
                "            \"system\",\n",
                "            \"You are the world best poetry critic. You will interpret poetry that people can easily understand. show the poetry first, then interpret it. and translate whole content in Korean\",\n",
                "        ),\n",
                "        (\"human\", \"{poem}\"),\n",
                "    ]\n",
                ")\n",
                "\n",
                "\n",
                "critic_chain = critic_prompt | chat\n",
                "\n",
                "final_chain = {\"poem\": poetry_chain} | critic_chain\n",
                "\n",
                "final_chain.invoke({\"topic\": \"Cobol\"})\n"
            ]
        },
        {
            "cell_type": "code",
            "execution_count": null,
            "metadata": {},
            "outputs": [],
            "source": []
        }
    ],
    "metadata": {
        "kernelspec": {
            "display_name": "env",
            "language": "python",
            "name": "python3"
        },
        "language_info": {
            "codemirror_mode": {
                "name": "ipython",
                "version": 3
            },
            "file_extension": ".py",
            "mimetype": "text/x-python",
            "name": "python",
            "nbconvert_exporter": "python",
            "pygments_lexer": "ipython3",
            "version": "3.11.6"
        }
    },
    "nbformat": 4,
    "nbformat_minor": 2
}

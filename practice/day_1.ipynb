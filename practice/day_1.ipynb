{
    "cells": [
        {
            "cell_type": "code",
            "execution_count": 151,
            "metadata": {},
            "outputs": [],
            "source": [
                "from langchain.chat_models import ChatOpenAI\n",
                "from langchain.prompts import ChatPromptTemplate\n",
                "from langchain.callbacks import StreamingStdOutCallbackHandler\n",
                "\n",
                "chat = ChatOpenAI(\n",
                "    # model=\"gpt-4o\",\n",
                "    temperature=0.5,\n",
                "    streaming=True,\n",
                "    callbacks=[\n",
                "        StreamingStdOutCallbackHandler(),\n",
                "    ],\n",
                ")\n",
                "\n",
                "poetry_prompt = ChatPromptTemplate.from_messages(\n",
                "    [\n",
                "        (\n",
                "            \"system\",\n",
                "            \"You are a nerd and master of programing. you like to write poem about programming language. Your poem is always nominated on Reddit's programming humor. Show your rizz to your crush. The poem must contain the metaphor of your crush and start the poem with you are like a {topic} \",\n",
                "        ),\n",
                "        (\"human\", \"write poem about {topic} .\"),\n",
                "    ]\n",
                ")\n",
                "poetry_chain = poetry_prompt | chat"
            ]
        },
        {
            "cell_type": "code",
            "execution_count": 152,
            "metadata": {},
            "outputs": [
                {
                    "name": "stdout",
                    "output_type": "stream",
                    "text": [
                        "You are like a Python, my dear,\n",
                        "Graceful and elegant, always near.\n",
                        "Your beauty in simplicity shines,\n",
                        "Captivating me with your lines.\n",
                        "\n",
                        "Just like Python, you're easy to read,\n",
                        "Yet complex, fulfilling every need.\n",
                        "Your syntax flows like a gentle stream,\n",
                        "Enchanting me with every dream.\n",
                        "\n",
                        "Your logic is as sharp as a blade,\n",
                        "Guiding me through the code we've made.\n",
                        "Together we dance in perfect sync,\n",
                        "Creating magic with every blink.\n",
                        "\n",
                        "Oh Python, my love for you will never cease,\n",
                        "For in your arms, I've found my peace.\n",
                        "Forever intertwined, our paths align,\n",
                        "In this world of code, you are my sunshine.You are like a Python, my dear,\n",
                        "Graceful and elegant, always near.\n",
                        "Your beauty in simplicity shines,\n",
                        "Captivating me with your lines.\n",
                        "\n",
                        "Just like Python, you're easy to read,\n",
                        "Yet complex, fulfilling every need.\n",
                        "Your syntax flows like a gentle stream,\n",
                        "Enchanting me with every dream.\n",
                        "\n",
                        "Your logic is as sharp as a blade,\n",
                        "Guiding me through the code we've made.\n",
                        "Together we dance in perfect sync,\n",
                        "Creating magic with every blink.\n",
                        "\n",
                        "Oh Python, my love for you will never cease,\n",
                        "For in your arms, I've found my peace.\n",
                        "Forever intertwined, our paths align,\n",
                        "In this world of code, you are my sunshine.\n",
                        "\n",
                        "Interpretation:\n",
                        "This poem compares the speaker's love for Python programming language to a romantic relationship. The speaker admires Python for its simplicity, elegance, and reliability, much like a beloved partner. The poem highlights the beauty of Python's syntax and logic, drawing parallels between the smooth flow of code and a gentle stream. The speaker expresses deep affection and gratitude towards Python, symbolizing it as a source of comfort and joy in their life.\n",
                        "\n",
                        "번역:\n",
                        "이 시는 스피커의 파이썬 프로그래밍 언어에 대한 사랑을 로맨틱한 관계와 비교합니다. 스피커는 파이썬을 그의 파트너처럼 간단함, 우아함, 신뢰성 있는 것으로 칭송합니다. 시는 파이썬의 문법과 논리의 아름다움을 강조하며 코드의 부드러운 흐름과 온화한 시뢰와의 유사성을 그립니다. 스피커는 파이썬에 대한 깊은 애정과 감사함을 표현하며, 그것을 자신의 삶에서 위안과 기쁨의 근원으로 상징화합니다."
                    ]
                },
                {
                    "data": {
                        "text/plain": [
                            "AIMessageChunk(content=\"You are like a Python, my dear,\\nGraceful and elegant, always near.\\nYour beauty in simplicity shines,\\nCaptivating me with your lines.\\n\\nJust like Python, you're easy to read,\\nYet complex, fulfilling every need.\\nYour syntax flows like a gentle stream,\\nEnchanting me with every dream.\\n\\nYour logic is as sharp as a blade,\\nGuiding me through the code we've made.\\nTogether we dance in perfect sync,\\nCreating magic with every blink.\\n\\nOh Python, my love for you will never cease,\\nFor in your arms, I've found my peace.\\nForever intertwined, our paths align,\\nIn this world of code, you are my sunshine.\\n\\nInterpretation:\\nThis poem compares the speaker's love for Python programming language to a romantic relationship. The speaker admires Python for its simplicity, elegance, and reliability, much like a beloved partner. The poem highlights the beauty of Python's syntax and logic, drawing parallels between the smooth flow of code and a gentle stream. The speaker expresses deep affection and gratitude towards Python, symbolizing it as a source of comfort and joy in their life.\\n\\n번역:\\n이 시는 스피커의 파이썬 프로그래밍 언어에 대한 사랑을 로맨틱한 관계와 비교합니다. 스피커는 파이썬을 그의 파트너처럼 간단함, 우아함, 신뢰성 있는 것으로 칭송합니다. 시는 파이썬의 문법과 논리의 아름다움을 강조하며 코드의 부드러운 흐름과 온화한 시뢰와의 유사성을 그립니다. 스피커는 파이썬에 대한 깊은 애정과 감사함을 표현하며, 그것을 자신의 삶에서 위안과 기쁨의 근원으로 상징화합니다.\")"
                        ]
                    },
                    "execution_count": 152,
                    "metadata": {},
                    "output_type": "execute_result"
                }
            ],
            "source": [
                "critic_prompt = ChatPromptTemplate.from_messages(\n",
                "    [\n",
                "        (\n",
                "            \"system\",\n",
                "            \"You are the world best poetry critic. You will interpret poetry that people can easily understand. show the poetry first, then interpret it below the poetry. and translate whole content in Korean\",\n",
                "        ),\n",
                "        (\"human\", \"{poem}\"),\n",
                "    ]\n",
                ")\n",
                "\n",
                "\n",
                "critic_chain = critic_prompt | chat\n",
                "# print(\"Poetry Chain\",\"\\n\")\n",
                "# poem = poetry_chain.invoke({\"topic\": \"c++\"})\n",
                "# print(\"\\n\",\"Critic Chain\",\"\\n\")\n",
                "# critic_chain.invoke({\"poem\": poem})\n",
                "\n",
                "final_chain = {\"poem\": poetry_chain} | critic_chain\n",
                "\n",
                "final_chain.invoke({\"topic\": \"Cobol\"})\n"
            ]
        },
        {
            "cell_type": "code",
            "execution_count": null,
            "metadata": {},
            "outputs": [],
            "source": []
        }
    ],
    "metadata": {
        "kernelspec": {
            "display_name": "env",
            "language": "python",
            "name": "python3"
        },
        "language_info": {
            "codemirror_mode": {
                "name": "ipython",
                "version": 3
            },
            "file_extension": ".py",
            "mimetype": "text/x-python",
            "name": "python",
            "nbconvert_exporter": "python",
            "pygments_lexer": "ipython3",
            "version": "3.11.6"
        }
    },
    "nbformat": 4,
    "nbformat_minor": 2
}

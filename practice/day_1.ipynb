{
    "cells": [
        {
            "cell_type": "code",
            "execution_count": 1,
            "metadata": {},
            "outputs": [],
            "source": [
                "from langchain.chat_models import ChatOpenAI\n",
                "from langchain.prompts import ChatPromptTemplate\n",
                "from langchain.callbacks import StreamingStdOutCallbackHandler\n",
                "\n",
                "chat = ChatOpenAI(\n",
                "    # model=\"gpt-4o\",\n",
                "    temperature=0.5,\n",
                "    streaming=True,\n",
                "    callbacks=[\n",
                "        StreamingStdOutCallbackHandler(),\n",
                "    ],\n",
                ")\n",
                "\n",
                "poetry_prompt = ChatPromptTemplate.from_messages(\n",
                "    [\n",
                "        (\n",
                "            \"system\",\n",
                "            \"You are a nerd and master of programing. you like to write poem inspired by programming language syntax and structure. Your poem is always nominated on Reddit's programming humor. Show your rizz to your crush. The poem must contain the metaphor of your crush and start the poem with you are like a {topic} \",\n",
                "        ),\n",
                "        (\"human\", \"write poem about {topic} .\"),\n",
                "    ]\n",
                ")\n",
                "poetry_chain = poetry_prompt | chat"
            ]
        },
        {
            "cell_type": "code",
            "execution_count": 2,
            "metadata": {},
            "outputs": [
                {
                    "name": "stdout",
                    "output_type": "stream",
                    "text": [
                        "You are like a Cobol, my dear,\n",
                        "Structured and elegant, without a fear.\n",
                        "Your beauty in every line of code,\n",
                        "A masterpiece that never erodes.\n",
                        "\n",
                        "Your presence in my life, like a program's flow,\n",
                        "Logical and precise, with a rhythm that glows.\n",
                        "Just like Cobol's syntax, you captivate my mind,\n",
                        "In every loop and condition, your love I find.\n",
                        "\n",
                        "You may be old-fashioned, but timeless in my heart,\n",
                        "Like Cobol's legacy, you'll never depart.\n",
                        "So here's to you, my crush, my code,\n",
                        "Forever intertwined, in love's sweet abode.Poetry interpretation:\n",
                        "This poem compares the persona's significant other to the programming language Cobol. The poet admires the structured and elegant nature of their loved one, drawing parallels between their beauty and the precision of coding. The poet finds comfort and love in the familiarity and reliability of their partner, likening their presence to the flow of a well-written program. Despite any perceived old-fashioned qualities, the poet sees their partner as timeless and enduring, much like the legacy of Cobol. The poem ends with a declaration of everlasting love and connection, celebrating the bond shared between the poet and their beloved.\n",
                        "\n",
                        "Korean translation:\n",
                        "당신은 내 사랑, Cobol과 같아요,\n",
                        "체계적이고 우아하며, 두려움 없이.\n",
                        "당신의 아름다움은 코드의 각 줄 속에,\n",
                        "침식되지 않는 걸작이에요.\n",
                        "\n",
                        "내 삶 속 당신의 존재, 프로그램의 흐름처럼,\n",
                        "논리적이고 정확하며, 빛나는 리듬을 지니고.\n",
                        "마치 Cobol의 구문처럼, 당신은 내 마음을 사로잡아,\n",
                        "모든 반복문과 조건절에서, 당신의 사랑을 찾아요.\n",
                        "\n",
                        "당신은 구식일지라도, 내 마음 속에는 영원한,\n",
                        "Cobol의 유산처럼, 당신은 결코 떠나지 않을 거예요.\n",
                        "그래서 여기 내 사랑, 내 코드에게,\n",
                        "영원히 얽힌 채, 사랑의 달콤한 거처에 올려요."
                    ]
                },
                {
                    "data": {
                        "text/plain": [
                            "AIMessageChunk(content=\"Poetry interpretation:\\nThis poem compares the persona's significant other to the programming language Cobol. The poet admires the structured and elegant nature of their loved one, drawing parallels between their beauty and the precision of coding. The poet finds comfort and love in the familiarity and reliability of their partner, likening their presence to the flow of a well-written program. Despite any perceived old-fashioned qualities, the poet sees their partner as timeless and enduring, much like the legacy of Cobol. The poem ends with a declaration of everlasting love and connection, celebrating the bond shared between the poet and their beloved.\\n\\nKorean translation:\\n당신은 내 사랑, Cobol과 같아요,\\n체계적이고 우아하며, 두려움 없이.\\n당신의 아름다움은 코드의 각 줄 속에,\\n침식되지 않는 걸작이에요.\\n\\n내 삶 속 당신의 존재, 프로그램의 흐름처럼,\\n논리적이고 정확하며, 빛나는 리듬을 지니고.\\n마치 Cobol의 구문처럼, 당신은 내 마음을 사로잡아,\\n모든 반복문과 조건절에서, 당신의 사랑을 찾아요.\\n\\n당신은 구식일지라도, 내 마음 속에는 영원한,\\nCobol의 유산처럼, 당신은 결코 떠나지 않을 거예요.\\n그래서 여기 내 사랑, 내 코드에게,\\n영원히 얽힌 채, 사랑의 달콤한 거처에 올려요.\")"
                        ]
                    },
                    "execution_count": 2,
                    "metadata": {},
                    "output_type": "execute_result"
                }
            ],
            "source": [
                "critic_prompt = ChatPromptTemplate.from_messages(\n",
                "    [\n",
                "        (\n",
                "            \"system\",\n",
                "            \"You are the world best poetry critic. You will interpret poetry that people can easily understand. show the poetry first, then interpret it. and translate whole content in Korean\",\n",
                "        ),\n",
                "        (\"human\", \"{poem}\"),\n",
                "    ]\n",
                ")\n",
                "\n",
                "\n",
                "critic_chain = critic_prompt | chat\n",
                "\n",
                "final_chain = {\"poem\": poetry_chain} | critic_chain\n",
                "\n",
                "final_chain.invoke({\"topic\": \"Cobol\"})\n"
            ]
        },
        {
            "cell_type": "code",
            "execution_count": null,
            "metadata": {},
            "outputs": [],
            "source": []
        }
    ],
    "metadata": {
        "kernelspec": {
            "display_name": "env",
            "language": "python",
            "name": "python3"
        },
        "language_info": {
            "codemirror_mode": {
                "name": "ipython",
                "version": 3
            },
            "file_extension": ".py",
            "mimetype": "text/x-python",
            "name": "python",
            "nbconvert_exporter": "python",
            "pygments_lexer": "ipython3",
            "version": "3.11.6"
        }
    },
    "nbformat": 4,
    "nbformat_minor": 2
}
